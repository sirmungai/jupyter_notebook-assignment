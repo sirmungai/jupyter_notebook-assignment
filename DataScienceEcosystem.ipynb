{
 "cells": [
  {
   "cell_type": "markdown",
   "id": "423a1043-d7d8-4d78-8cfa-996feb02652c",
   "metadata": {},
   "source": [
    "<h1>Data Science Tools and Ecosystem<h1/>\n"
   ]
  },
  {
   "cell_type": "markdown",
   "id": "c15b6bdc-8ec5-4fdd-88d8-8e95a7ae3ba8",
   "metadata": {},
   "source": [
    "In this notebook, Data Science Tools and Ecosystem are summarized."
   ]
  },
  {
   "cell_type": "markdown",
   "id": "08b9b8f9-f08d-4d2b-a0d6-e8d000452d86",
   "metadata": {},
   "source": [
    "Objectives:\n",
    ". Create a Jupyter Notebook\n",
    ". List popular languages for Data Science\n",
    ". list data science libraries\n",
    ". Create a markdown cell introducing arithmetic expression examples"
   ]
  },
  {
   "cell_type": "markdown",
   "id": "ec1f21f0-bb2a-46b3-ae40-616fe3e4e1d0",
   "metadata": {},
   "source": [
    "Some of the popular languages that Data Scientists use are:\n",
    "a. Python\n",
    "b. julia\n",
    "c. R\n",
    "d. C++"
   ]
  },
  {
   "cell_type": "markdown",
   "id": "228dd801-1ced-40d7-a7eb-3e865edd6902",
   "metadata": {},
   "source": [
    "Some of the commonly used libraries used by Data Scientists include:\n",
    "1. matplotlib\n",
    "2. pandas\n",
    "3. scikit-learn\n",
    "4. seaborn\n",
    "5. keras"
   ]
  },
  {
   "cell_type": "markdown",
   "id": "f97f5a79-5096-4f3f-87bb-d21ac6b423fa",
   "metadata": {},
   "source": [
    "| Data Science Tools |\n",
    "| -----------\n",
    "| jupyter notebook |\n",
    "| Apache hadoop |\n",
    "| Apache spark  |\n",
    "| TensorFlow  |"
   ]
  },
  {
   "cell_type": "markdown",
   "id": "24504ce1-7224-41f3-9176-fc3a590a6462",
   "metadata": {},
   "source": [
    "<h3>Below are a few examples of evaluating arithmetic expressions in Python<h3/>"
   ]
  },
  {
   "cell_type": "code",
   "execution_count": 7,
   "id": "83327e54-8da1-40c3-9ebf-fe18af9da9cd",
   "metadata": {},
   "outputs": [
    {
     "data": {
      "text/plain": [
       "17"
      ]
     },
     "execution_count": 7,
     "metadata": {},
     "output_type": "execute_result"
    }
   ],
   "source": [
    "#This a simple arithmetic expression to mutiply then add integers\n",
    "(3*4)+5"
   ]
  },
  {
   "cell_type": "code",
   "execution_count": 11,
   "id": "c5f79d48-1c04-4645-9987-3e83365dd6e4",
   "metadata": {},
   "outputs": [
    {
     "name": "stdout",
     "output_type": "stream",
     "text": [
      "3.3333333333333335\n"
     ]
    }
   ],
   "source": [
    "#This will convert 200 minutes to hours by diving by 60\n",
    "b=200\n",
    "a=b/60\n",
    "print(a);"
   ]
  },
  {
   "cell_type": "markdown",
   "id": "d547e4fc-afbb-4396-8ebb-12dd652dd70a",
   "metadata": {},
   "source": [
    "<h2>Author</h2>\n",
    "David Mungai"
   ]
  },
  {
   "cell_type": "code",
   "execution_count": null,
   "id": "896af294-1793-437b-afd7-6fb03def888b",
   "metadata": {},
   "outputs": [],
   "source": []
  }
 ],
 "metadata": {
  "kernelspec": {
   "display_name": "anaconda-2022.05-py39",
   "language": "python",
   "name": "conda-env-anaconda-2022.05-py39-py"
  },
  "language_info": {
   "codemirror_mode": {
    "name": "ipython",
    "version": 3
   },
   "file_extension": ".py",
   "mimetype": "text/x-python",
   "name": "python",
   "nbconvert_exporter": "python",
   "pygments_lexer": "ipython3",
   "version": "3.9.12"
  }
 },
 "nbformat": 4,
 "nbformat_minor": 5
}
